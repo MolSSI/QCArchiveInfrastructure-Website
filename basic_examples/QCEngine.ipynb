{
 "cells": [
  {
   "cell_type": "markdown",
   "metadata": {},
   "source": [
    "# QCEngine\n",
    "\n",
    "QCEngine is a quantum chemistry abstraction layer where many different quantum chemistry (or quantum-chemistry-like!) programs can be run with identical input and output abstractions that match the [MolSSI QCSchema](https://github.com/MolSSI/QCSchema)."
   ]
  },
  {
   "cell_type": "code",
   "execution_count": 1,
   "metadata": {},
   "outputs": [],
   "source": [
    "import qcelemental as qcel\n",
    "import qcengine as qcng"
   ]
  },
  {
   "cell_type": "markdown",
   "metadata": {},
   "source": [
    "We can list all programs that QCEngine currently supports. \n",
    "It should be noted that there are many programs which provide force field or machine learning potential evaluation (e.g.  `rdkit` and `torchani`)\n",
    "in addition to the traditional quantum chemistry programs."
   ]
  },
  {
   "cell_type": "code",
   "execution_count": 2,
   "metadata": {},
   "outputs": [
    {
     "data": {
      "text/plain": [
       "{'dftd3',\n",
       " 'entos',\n",
       " 'molpro',\n",
       " 'mopac',\n",
       " 'mp2d',\n",
       " 'psi4',\n",
       " 'rdkit',\n",
       " 'terachem',\n",
       " 'torchani'}"
      ]
     },
     "execution_count": 2,
     "metadata": {},
     "output_type": "execute_result"
    }
   ],
   "source": [
    "qcng.list_all_programs()"
   ]
  },
  {
   "cell_type": "markdown",
   "metadata": {},
   "source": [
    "We can then list all programs that QCEngine has detected on the current resource. This list will vary depending on installed packages. As a note, QCEngine does not install programs by default, and these must be installed separately."
   ]
  },
  {
   "cell_type": "code",
   "execution_count": 3,
   "metadata": {},
   "outputs": [
    {
     "data": {
      "text/plain": [
       "{'dftd3', 'mopac', 'psi4', 'rdkit'}"
      ]
     },
     "execution_count": 3,
     "metadata": {},
     "output_type": "execute_result"
    }
   ],
   "source": [
    "qcng.list_available_programs()"
   ]
  },
  {
   "cell_type": "markdown",
   "metadata": {},
   "source": [
    "## Single Computations\n",
    "\n",
    "QCEngine makes the distinction between a \"single\" evaluation which corresponds to a single molecular geometry \n",
    "and a \"procedure\" which involves multiple geometries or multiple molecules.\n",
    "\"Single\" evaluations include energy, gradient, Hessian, and property quantities.\n",
    "\"Procedures\" include geometry optimization and other complex multi-step procedures.\n",
    "\n",
    "First, we can build a Molecule object using the QCElemental molecule builder:"
   ]
  },
  {
   "cell_type": "code",
   "execution_count": 4,
   "metadata": {},
   "outputs": [
    {
     "data": {
      "application/3dmoljs_load.v0": "<div id=\"3dmolviewer_15663377869586968\"  style=\"position: relative; width: 400px; height: 400px\">\n        <p id=\"3dmolwarning_15663377869586968\" style=\"background-color:#ffcccc;color:black\">You appear to be running in JupyterLab (or JavaScript failed to load for some other reason).  You need to install the 3dmol extension: <br>\n        <tt>jupyter labextension install jupyterlab_3dmol</tt></p>\n        </div>\n<script>\n\nvar loadScriptAsync = function(uri){\n  return new Promise((resolve, reject) => {\n    var tag = document.createElement('script');\n    tag.src = uri;\n    tag.async = true;\n    tag.onload = () => {\n      resolve();\n    };\n  var firstScriptTag = document.getElementsByTagName('script')[0];\n  firstScriptTag.parentNode.insertBefore(tag, firstScriptTag);\n});\n};\n\nif(typeof $3Dmolpromise === 'undefined') {\n$3Dmolpromise = null;\n  $3Dmolpromise = loadScriptAsync('https://3dmol.csb.pitt.edu/build/3Dmol.js');\n}\n\nvar viewer_15663377869586968 = null;\nvar warn = document.getElementById(\"3dmolwarning_15663377869586968\");\nif(warn) {\n    warn.parentNode.removeChild(warn);\n}\n$3Dmolpromise.then(function() {\nviewer_15663377869586968 = $3Dmol.createViewer($(\"#3dmolviewer_15663377869586968\"),{backgroundColor:\"white\"});\n\tviewer_15663377869586968.addModel(\"3\\nH2O\\nO                     0.000000000000     0.000000000000     0.000000000000\\nH                     0.000000000000     0.793765816005     0.000000000000\\nH                     0.000000000000     0.000000000000     0.793765816005\\n\",\"xyz\");\n\tviewer_15663377869586968.setStyle({\"stick\": {\"radius\": 0.2}, \"sphere\": {\"scale\": 0.3}});\n\tviewer_15663377869586968.zoomTo();\nviewer_15663377869586968.render();\n});\n</script>",
      "text/html": [
       "<div id=\"3dmolviewer_15663377869586968\"  style=\"position: relative; width: 400px; height: 400px\">\n",
       "        <p id=\"3dmolwarning_15663377869586968\" style=\"background-color:#ffcccc;color:black\">You appear to be running in JupyterLab (or JavaScript failed to load for some other reason).  You need to install the 3dmol extension: <br>\n",
       "        <tt>jupyter labextension install jupyterlab_3dmol</tt></p>\n",
       "        </div>\n",
       "<script>\n",
       "\n",
       "var loadScriptAsync = function(uri){\n",
       "  return new Promise((resolve, reject) => {\n",
       "    var tag = document.createElement('script');\n",
       "    tag.src = uri;\n",
       "    tag.async = true;\n",
       "    tag.onload = () => {\n",
       "      resolve();\n",
       "    };\n",
       "  var firstScriptTag = document.getElementsByTagName('script')[0];\n",
       "  firstScriptTag.parentNode.insertBefore(tag, firstScriptTag);\n",
       "});\n",
       "};\n",
       "\n",
       "if(typeof $3Dmolpromise === 'undefined') {\n",
       "$3Dmolpromise = null;\n",
       "  $3Dmolpromise = loadScriptAsync('https://3dmol.csb.pitt.edu/build/3Dmol.js');\n",
       "}\n",
       "\n",
       "var viewer_15663377869586968 = null;\n",
       "var warn = document.getElementById(\"3dmolwarning_15663377869586968\");\n",
       "if(warn) {\n",
       "    warn.parentNode.removeChild(warn);\n",
       "}\n",
       "$3Dmolpromise.then(function() {\n",
       "viewer_15663377869586968 = $3Dmol.createViewer($(\"#3dmolviewer_15663377869586968\"),{backgroundColor:\"white\"});\n",
       "\tviewer_15663377869586968.addModel(\"3\\nH2O\\nO                     0.000000000000     0.000000000000     0.000000000000\\nH                     0.000000000000     0.793765816005     0.000000000000\\nH                     0.000000000000     0.000000000000     0.793765816005\\n\",\"xyz\");\n",
       "\tviewer_15663377869586968.setStyle({\"stick\": {\"radius\": 0.2}, \"sphere\": {\"scale\": 0.3}});\n",
       "\tviewer_15663377869586968.zoomTo();\n",
       "viewer_15663377869586968.render();\n",
       "});\n",
       "</script>"
      ]
     },
     "metadata": {},
     "output_type": "display_data"
    },
    {
     "data": {
      "text/plain": [
       "<Molecule(name='H2O' formula='H2O' hash='b41d0c5')>"
      ]
     },
     "execution_count": 4,
     "metadata": {},
     "output_type": "execute_result"
    }
   ],
   "source": [
    "mol = qcel.models.Molecule(geometry=[[0, 0, 0], [0, 1.5, 0], [0, 0, 1.5]],\n",
    "                           symbols=[\"O\", \"H\", \"H\"],\n",
    "                           connectivity=[[0, 1, 1], [0, 2, 1]])\n",
    "mol"
   ]
  },
  {
   "cell_type": "markdown",
   "metadata": {},
   "source": [
    "We can then provide minimal input for a quantum chemistry job which specifies the molecule, driver, and model that the computation should be run under:"
   ]
  },
  {
   "cell_type": "code",
   "execution_count": 5,
   "metadata": {},
   "outputs": [],
   "source": [
    "computation = {\n",
    "    \"molecule\": mol,\n",
    "    \"driver\": \"energy\",\n",
    "    \"model\": {\"method\": \"B3LYP\", \"basis\": \"6-31g\"}\n",
    "}\n",
    "ret = qcng.compute(computation, \"psi4\")"
   ]
  },
  {
   "cell_type": "markdown",
   "metadata": {},
   "source": [
    "The result contains many attributes that hold relevant data. \n",
    "We can access the `return_result` which contains the desired value as determined by the `driver` input field. \n",
    "In this case, it is the B3LYP/6-31g energy (in Hartree):"
   ]
  },
  {
   "cell_type": "code",
   "execution_count": 6,
   "metadata": {},
   "outputs": [
    {
     "data": {
      "text/plain": [
       "-76.2741297206346"
      ]
     },
     "execution_count": 6,
     "metadata": {},
     "output_type": "execute_result"
    }
   ],
   "source": [
    "ret.return_result"
   ]
  },
  {
   "cell_type": "markdown",
   "metadata": {},
   "source": [
    "QCEngine automatically parses additional data about the state of the computation and pulls several other component fields. Here we can see the energy breakdown as well as the basis information:"
   ]
  },
  {
   "cell_type": "code",
   "execution_count": 7,
   "metadata": {
    "scrolled": true
   },
   "outputs": [
    {
     "data": {
      "text/plain": [
       "{'calcinfo_nbasis': 13,\n",
       " 'calcinfo_nmo': 13,\n",
       " 'calcinfo_nalpha': 5,\n",
       " 'calcinfo_nbeta': 5,\n",
       " 'calcinfo_natom': 3,\n",
       " 'nuclear_repulsion_energy': 11.138071187457696,\n",
       " 'return_energy': -76.2741297206346,\n",
       " 'scf_one_electron_energy': -126.25159666378747,\n",
       " 'scf_two_electron_energy': 46.556895182916136,\n",
       " 'scf_xc_energy': -7.717499427220989,\n",
       " 'scf_dipole_moment': [0.0, 0.0, 2.660795024634264],\n",
       " 'scf_total_energy': -76.2741297206346,\n",
       " 'scf_iterations': 6}"
      ]
     },
     "execution_count": 7,
     "metadata": {},
     "output_type": "execute_result"
    }
   ],
   "source": [
    "ret.properties.dict()"
   ]
  },
  {
   "cell_type": "markdown",
   "metadata": {},
   "source": [
    "Finally, QCEngine records much of the state of the computation such as the hardware it was run on, the program it was run with, and the versions of programs used:"
   ]
  },
  {
   "cell_type": "code",
   "execution_count": 8,
   "metadata": {},
   "outputs": [
    {
     "data": {
      "text/plain": [
       "{'creator': 'Psi4',\n",
       " 'version': '1.3.2',\n",
       " 'routine': 'psi4.json.run_json',\n",
       " 'memory': 2.266,\n",
       " 'nthreads': 2,\n",
       " 'qcengine_version': 'v0.9.0',\n",
       " 'wall_time': 2.847166061401367,\n",
       " 'hostname': 'Daniels-MacBook-Pro.local',\n",
       " 'cpu': 'Intel(R) Core(TM) i7-7820HQ CPU @ 2.90GHz',\n",
       " 'username': 'daniel'}"
      ]
     },
     "execution_count": 8,
     "metadata": {},
     "output_type": "execute_result"
    }
   ],
   "source": [
    "ret.provenance.dict()"
   ]
  },
  {
   "cell_type": "markdown",
   "metadata": {},
   "source": [
    "## Procedures\n",
    "\n",
    "Since we created a pretty poor molecule to start with, we should optimize it first under a force field method to have a reasonable geometry. \n",
    "Here, we will use the standalone `geomeTRIC` package coupled with the `rdkit` force field evaluator."
   ]
  },
  {
   "cell_type": "code",
   "execution_count": 9,
   "metadata": {},
   "outputs": [
    {
     "name": "stdout",
     "output_type": "stream",
     "text": [
      "O-H Bond length (Bohr): 1.5\n",
      "H-O-H Angle (degrees):  90.0\n"
     ]
    }
   ],
   "source": [
    "oh_bond, hoh_angle = mol.measure([[0, 1], [1, 0, 2]])\n",
    "print(f\"O-H Bond length (Bohr): {oh_bond}\")\n",
    "print(f\"H-O-H Angle (degrees):  {hoh_angle}\")"
   ]
  },
  {
   "cell_type": "code",
   "execution_count": 10,
   "metadata": {},
   "outputs": [
    {
     "data": {
      "text/plain": [
       "<Optimization(model='{'method': 'UFF', 'basis': None}' molecule_hash='b41d0c5')>"
      ]
     },
     "execution_count": 10,
     "metadata": {},
     "output_type": "execute_result"
    }
   ],
   "source": [
    "opt_input = {\n",
    "    \"keywords\": {\n",
    "        \"program\": \"rdkit\"\n",
    "    },\n",
    "    \"input_specification\": {\n",
    "        \"driver\": \"gradient\",\n",
    "        \"model\": {\"method\": \"UFF\"},\n",
    "    },\n",
    "    \"initial_molecule\": mol\n",
    "}\n",
    "opt = qcng.compute_procedure(opt_input, \"geometric\")\n",
    "opt"
   ]
  },
  {
   "cell_type": "markdown",
   "metadata": {},
   "source": [
    "We can first check the geometry of the final molecule and see that it is something much more reasonable:"
   ]
  },
  {
   "cell_type": "code",
   "execution_count": 11,
   "metadata": {},
   "outputs": [
    {
     "name": "stdout",
     "output_type": "stream",
     "text": [
      "O-H Bond length (Bohr): 1.8713297962085038\n",
      "H-O-H Angle (degrees):  104.5102429904286\n"
     ]
    }
   ],
   "source": [
    "opt_mol = opt.final_molecule\n",
    "oh_bond, hoh_angle = opt_mol.measure([[0, 1], [1, 0, 2]])\n",
    "print(f\"O-H Bond length (Bohr): {oh_bond}\")\n",
    "print(f\"H-O-H Angle (degrees):  {hoh_angle}\")"
   ]
  },
  {
   "cell_type": "markdown",
   "metadata": {},
   "source": [
    "We can explore additional data generated with this geometry optimization including details of every gradient evaluation performed:"
   ]
  },
  {
   "cell_type": "code",
   "execution_count": 12,
   "metadata": {},
   "outputs": [
    {
     "data": {
      "text/plain": [
       "[<Result(driver='gradient' model='{'method': 'UFF', 'basis': None}' molecule_hash='b41d0c5')>,\n",
       " <Result(driver='gradient' model='{'method': 'UFF', 'basis': None}' molecule_hash='1ad5fe3')>,\n",
       " <Result(driver='gradient' model='{'method': 'UFF', 'basis': None}' molecule_hash='04ec4cf')>,\n",
       " <Result(driver='gradient' model='{'method': 'UFF', 'basis': None}' molecule_hash='58054eb')>,\n",
       " <Result(driver='gradient' model='{'method': 'UFF', 'basis': None}' molecule_hash='f2a154b')>,\n",
       " <Result(driver='gradient' model='{'method': 'UFF', 'basis': None}' molecule_hash='3c65f4c')>]"
      ]
     },
     "execution_count": 12,
     "metadata": {},
     "output_type": "execute_result"
    }
   ],
   "source": [
    "opt.trajectory"
   ]
  },
  {
   "cell_type": "markdown",
   "metadata": {},
   "source": [
    "If desired, we can also look at the standard output of the `geomeTRIC` program:"
   ]
  },
  {
   "cell_type": "code",
   "execution_count": 13,
   "metadata": {},
   "outputs": [
    {
     "name": "stdout",
     "output_type": "stream",
     "text": [
      "9 internal coordinates being used (instead of 9 Cartesians)\n",
      "Internal coordinate system (atoms numbered from 1):\n",
      "Distance 1-2\n",
      "Distance 1-3\n",
      "Angle 2-1-3\n",
      "Translation-X 1-3\n",
      "Translation-Y 1-3\n",
      "Translation-Z 1-3\n",
      "Rotation-A 1-3\n",
      "Rotation-B 1-3\n",
      "Rotation-C 1-3\n",
      "<class 'geometric.internal.Distance'> : 2\n",
      "<class 'geometric.internal.Angle'> : 1\n",
      "<class 'geometric.internal.TranslationX'> : 1\n",
      "<class 'geometric.internal.TranslationY'> : 1\n",
      "<class 'geometric.internal.TranslationZ'> : 1\n",
      "<class 'geometric.internal.RotationA'> : 1\n",
      "<class 'geometric.internal.RotationB'> : 1\n",
      "<class 'geometric.internal.RotationC'> : 1\n",
      "Step    0 : Gradient = 1.686e-01/1.827e-01 (rms/max) Energy =  0.0180063792\n",
      "Hessian Eigenvalues: 5.00000e-02 5.00000e-02 5.00000e-02 ... 1.60000e-01 1.14610e+00 1.14610e+00\n",
      "Step    1 : Displace = \u001b[0m1.073e-01\u001b[0m/\u001b[0m1.303e-01\u001b[0m (rms/max) Trust = 1.000e-01 (=) Grad = \u001b[0m1.080e-01\u001b[0m/\u001b[0m1.234e-01\u001b[0m (rms/max) E (change) =  0.0065007416 (\u001b[0m-1.151e-02\u001b[0m) Quality = \u001b[0m0.413\u001b[0m\n",
      "Hessian Eigenvalues: 5.00000e-02 5.00000e-02 5.00000e-02 ... 1.95811e-01 4.90425e-01 1.14610e+00\n",
      "Step    2 : Displace = \u001b[0m8.518e-02\u001b[0m/\u001b[0m1.017e-01\u001b[0m (rms/max) Trust = 1.000e-01 (=) Grad = \u001b[0m1.592e-02\u001b[0m/\u001b[0m2.161e-02\u001b[0m (rms/max) E (change) =  0.0001690891 (\u001b[0m-6.332e-03\u001b[0m) Quality = \u001b[0m0.307\u001b[0m\n",
      "Hessian Eigenvalues: 5.00000e-02 5.00000e-02 5.00000e-02 ... 2.02540e-01 4.27767e-01 1.14610e+00\n",
      "Step    3 : Displace = \u001b[0m1.326e-02\u001b[0m/\u001b[0m1.817e-02\u001b[0m (rms/max) Trust = 1.000e-01 (=) Grad = \u001b[0m1.744e-03\u001b[0m/\u001b[0m2.373e-03\u001b[0m (rms/max) E (change) =  0.0000051046 (\u001b[0m-1.640e-04\u001b[0m) Quality = \u001b[0m0.317\u001b[0m\n",
      "Hessian Eigenvalues: 5.00000e-02 5.00000e-02 5.00000e-02 ... 1.68278e-01 4.49086e-01 1.14610e+00\n",
      "Step    4 : Displace = \u001b[0m4.295e-03\u001b[0m/\u001b[0m4.443e-03\u001b[0m (rms/max) Trust = 1.000e-01 (=) Grad = \u001b[92m1.311e-04\u001b[0m/\u001b[92m1.413e-04\u001b[0m (rms/max) E (change) =  0.0000000164 (\u001b[0m-5.088e-06\u001b[0m) Quality = \u001b[0m0.287\u001b[0m\n",
      "Hessian Eigenvalues: 5.00000e-02 5.00000e-02 5.00000e-02 ... 1.63098e-01 4.53449e-01 1.14610e+00\n",
      "Step    5 : Displace = \u001b[92m2.091e-04\u001b[0m/\u001b[92m2.541e-04\u001b[0m (rms/max) Trust = 1.000e-01 (=) Grad = \u001b[92m9.256e-06\u001b[0m/\u001b[92m1.015e-05\u001b[0m (rms/max) E (change) =  0.0000000001 (\u001b[92m-1.632e-08\u001b[0m) Quality = \u001b[0m0.294\u001b[0m\n",
      "Converged! =D\n",
      "\n"
     ]
    }
   ],
   "source": [
    "print(opt.stdout)"
   ]
  },
  {
   "cell_type": "markdown",
   "metadata": {},
   "source": [
    "## Conclusion\n",
    "\n",
    "These are some of the capabilities QCEngine offers, check out more [documentation](http://docs.qcarchive.molssi.org/projects/QCEngine). \n",
    "If you like the project, consider starring us on [GitHub](https://github.com/MolSSI/QCEngine) or if you have any questions, join our [Slack](https://join.slack.com/t/qcdb/shared_invite/enQtNDIzNTQ2OTExODk0LWM3OTgxN2ExYTlkMTlkZjA0OTExZDlmNGRlY2M4NWJlNDlkZGQyYWUxOTJmMzc3M2VlYzZjMjgxMDRkYzFmOTE) channel."
   ]
  }
 ],
 "metadata": {
  "kernelspec": {
   "display_name": "Python 3",
   "language": "python",
   "name": "python3"
  },
  "language_info": {
   "codemirror_mode": {
    "name": "ipython",
    "version": 3
   },
   "file_extension": ".py",
   "mimetype": "text/x-python",
   "name": "python",
   "nbconvert_exporter": "python",
   "pygments_lexer": "ipython3",
   "version": "3.7.3"
  },
  "pycharm": {
   "stem_cell": {
    "cell_type": "raw",
    "source": [],
    "metadata": {
     "collapsed": false
    }
   }
  }
 },
 "nbformat": 4,
 "nbformat_minor": 2
}
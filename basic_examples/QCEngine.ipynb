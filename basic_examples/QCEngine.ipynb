{
 "cells": [
  {
   "cell_type": "markdown",
   "metadata": {},
   "source": [
    "# QCEngine\n",
    "\n",
    "QCEngine is a quantum chemistry abstraction layer where many different quantum chemistry (or quantum chemistry like!) programs can be run with identical input and ouput abstractions that match the MolSSI QCSchema."
   ]
  },
  {
   "cell_type": "code",
   "execution_count": 2,
   "metadata": {},
   "outputs": [],
   "source": [
    "import qcelemental as qcel\n",
    "import qcengine as qcng"
   ]
  },
  {
   "cell_type": "markdown",
   "metadata": {},
   "source": []
  },
  {
   "cell_type": "code",
   "execution_count": 3,
   "metadata": {},
   "outputs": [
    {
     "data": {
      "text/plain": [
       "{'dftd3',\n",
       " 'entos',\n",
       " 'molpro',\n",
       " 'mopac',\n",
       " 'mp2d',\n",
       " 'psi4',\n",
       " 'rdkit',\n",
       " 'terachem',\n",
       " 'torchani'}"
      ]
     },
     "execution_count": 3,
     "metadata": {},
     "output_type": "execute_result"
    }
   ],
   "source": [
    "qcng.list_all_programs()"
   ]
  },
  {
   "cell_type": "code",
   "execution_count": 5,
   "metadata": {},
   "outputs": [
    {
     "data": {
      "text/plain": [
       "{'dftd3', 'mopac', 'psi4', 'rdkit'}"
      ]
     },
     "execution_count": 5,
     "metadata": {},
     "output_type": "execute_result"
    }
   ],
   "source": [
    "qcng.list_available_programs()"
   ]
  },
  {
   "cell_type": "code",
   "execution_count": 8,
   "metadata": {},
   "outputs": [
    {
     "data": {
      "application/3dmoljs_load.v0": "<div id=\"3dmolviewer_1566254168310545\"  style=\"position: relative; width: 400px; height: 400px\">\n        <p id=\"3dmolwarning_1566254168310545\" style=\"background-color:#ffcccc;color:black\">You appear to be running in JupyterLab (or JavaScript failed to load for some other reason).  You need to install the 3dmol extension: <br>\n        <tt>jupyter labextension install jupyterlab_3dmol</tt></p>\n        </div>\n<script>\n\nvar loadScriptAsync = function(uri){\n  return new Promise((resolve, reject) => {\n    var tag = document.createElement('script');\n    tag.src = uri;\n    tag.async = true;\n    tag.onload = () => {\n      resolve();\n    };\n  var firstScriptTag = document.getElementsByTagName('script')[0];\n  firstScriptTag.parentNode.insertBefore(tag, firstScriptTag);\n});\n};\n\nif(typeof $3Dmolpromise === 'undefined') {\n$3Dmolpromise = null;\n  $3Dmolpromise = loadScriptAsync('https://3dmol.csb.pitt.edu/build/3Dmol.js');\n}\n\nvar viewer_1566254168310545 = null;\nvar warn = document.getElementById(\"3dmolwarning_1566254168310545\");\nif(warn) {\n    warn.parentNode.removeChild(warn);\n}\n$3Dmolpromise.then(function() {\nviewer_1566254168310545 = $3Dmol.createViewer($(\"#3dmolviewer_1566254168310545\"),{backgroundColor:\"white\"});\n\tviewer_1566254168310545.addModel(\"3\\nH2O\\nO                     0.000000000000     0.000000000000     0.000000000000\\nH                     0.000000000000     0.793765816005     0.000000000000\\nH                     0.000000000000     0.000000000000     0.793765816005\\n\",\"xyz\");\n\tviewer_1566254168310545.setStyle({\"stick\": {\"radius\": 0.2}, \"sphere\": {\"scale\": 0.3}});\n\tviewer_1566254168310545.zoomTo();\nviewer_1566254168310545.render();\n});\n</script>",
      "text/html": [
       "<div id=\"3dmolviewer_1566254168310545\"  style=\"position: relative; width: 400px; height: 400px\">\n",
       "        <p id=\"3dmolwarning_1566254168310545\" style=\"background-color:#ffcccc;color:black\">You appear to be running in JupyterLab (or JavaScript failed to load for some other reason).  You need to install the 3dmol extension: <br>\n",
       "        <tt>jupyter labextension install jupyterlab_3dmol</tt></p>\n",
       "        </div>\n",
       "<script>\n",
       "\n",
       "var loadScriptAsync = function(uri){\n",
       "  return new Promise((resolve, reject) => {\n",
       "    var tag = document.createElement('script');\n",
       "    tag.src = uri;\n",
       "    tag.async = true;\n",
       "    tag.onload = () => {\n",
       "      resolve();\n",
       "    };\n",
       "  var firstScriptTag = document.getElementsByTagName('script')[0];\n",
       "  firstScriptTag.parentNode.insertBefore(tag, firstScriptTag);\n",
       "});\n",
       "};\n",
       "\n",
       "if(typeof $3Dmolpromise === 'undefined') {\n",
       "$3Dmolpromise = null;\n",
       "  $3Dmolpromise = loadScriptAsync('https://3dmol.csb.pitt.edu/build/3Dmol.js');\n",
       "}\n",
       "\n",
       "var viewer_1566254168310545 = null;\n",
       "var warn = document.getElementById(\"3dmolwarning_1566254168310545\");\n",
       "if(warn) {\n",
       "    warn.parentNode.removeChild(warn);\n",
       "}\n",
       "$3Dmolpromise.then(function() {\n",
       "viewer_1566254168310545 = $3Dmol.createViewer($(\"#3dmolviewer_1566254168310545\"),{backgroundColor:\"white\"});\n",
       "\tviewer_1566254168310545.addModel(\"3\\nH2O\\nO                     0.000000000000     0.000000000000     0.000000000000\\nH                     0.000000000000     0.793765816005     0.000000000000\\nH                     0.000000000000     0.000000000000     0.793765816005\\n\",\"xyz\");\n",
       "\tviewer_1566254168310545.setStyle({\"stick\": {\"radius\": 0.2}, \"sphere\": {\"scale\": 0.3}});\n",
       "\tviewer_1566254168310545.zoomTo();\n",
       "viewer_1566254168310545.render();\n",
       "});\n",
       "</script>"
      ]
     },
     "metadata": {},
     "output_type": "display_data"
    },
    {
     "data": {
      "text/plain": [
       "<Molecule(name='H2O' formula='H2O' hash='b41d0c5')>"
      ]
     },
     "execution_count": 8,
     "metadata": {},
     "output_type": "execute_result"
    }
   ],
   "source": [
    "mol = qcel.models.Molecule(geometry=[[0, 0, 0], [0, 1.5, 0], [0, 0, 1.5]],\n",
    "                           symbols=[\"O\", \"H\", \"H\"],\n",
    "                           connectivity=[[0, 1, 1], [0, 2, 1]])\n",
    "mol"
   ]
  },
  {
   "cell_type": "code",
   "execution_count": 13,
   "metadata": {},
   "outputs": [],
   "source": [
    "qctask = {\n",
    "    \"molecule\": mol,\n",
    "    \"driver\": \"energy\",\n",
    "    \"model\": {\"method\": \"B3LYP\", \"basis\": \"6-31g\"}\n",
    "}\n",
    "ret = qcng.compute(qctask, \"psi4\")"
   ]
  },
  {
   "cell_type": "code",
   "execution_count": 15,
   "metadata": {},
   "outputs": [
    {
     "data": {
      "text/plain": [
       "-76.27412972063468"
      ]
     },
     "execution_count": 15,
     "metadata": {},
     "output_type": "execute_result"
    }
   ],
   "source": [
    "ret.return_result"
   ]
  },
  {
   "cell_type": "code",
   "execution_count": 18,
   "metadata": {},
   "outputs": [
    {
     "data": {
      "text/plain": [
       "{'creator': 'Psi4',\n",
       " 'version': '1.3.2',\n",
       " 'routine': 'psi4.json.run_json',\n",
       " 'qcengine_version': 'v0.9.0',\n",
       " 'hostname': 'Daniels-MacBook-Pro.local',\n",
       " 'memory': 2.531,\n",
       " 'nthreads': 2,\n",
       " 'wall_time': 1.06595778465271,\n",
       " 'cpu': 'Intel(R) Core(TM) i7-7820HQ CPU @ 2.90GHz',\n",
       " 'username': 'daniel'}"
      ]
     },
     "execution_count": 18,
     "metadata": {},
     "output_type": "execute_result"
    }
   ],
   "source": [
    "ret.provenance.dict()"
   ]
  },
  {
   "cell_type": "code",
   "execution_count": 19,
   "metadata": {},
   "outputs": [
    {
     "data": {
      "text/plain": [
       "{'calcinfo_nbasis': 13,\n",
       " 'calcinfo_nmo': 13,\n",
       " 'calcinfo_nalpha': 5,\n",
       " 'calcinfo_nbeta': 5,\n",
       " 'calcinfo_natom': 3,\n",
       " 'nuclear_repulsion_energy': 11.138071187457696,\n",
       " 'return_energy': -76.27412972063468,\n",
       " 'scf_one_electron_energy': -126.25159666378755,\n",
       " 'scf_two_electron_energy': 46.55689518291617,\n",
       " 'scf_vv10_energy': None,\n",
       " 'scf_xc_energy': -7.717499427220995,\n",
       " 'scf_dispersion_correction_energy': None,\n",
       " 'scf_dipole_moment': [0.0, 0.0, 2.6607950246342504],\n",
       " 'scf_total_energy': -76.27412972063468,\n",
       " 'scf_iterations': 6,\n",
       " 'mp2_same_spin_correlation_energy': None,\n",
       " 'mp2_opposite_spin_correlation_energy': None,\n",
       " 'mp2_singles_energy': None,\n",
       " 'mp2_doubles_energy': None,\n",
       " 'mp2_total_correlation_energy': None,\n",
       " 'mp2_correlation_energy': None,\n",
       " 'mp2_total_energy': None,\n",
       " 'mp2_dipole_moment': None,\n",
       " 'ccsd_same_spin_correlation_energy': None,\n",
       " 'ccsd_opposite_spin_correlation_energy': None,\n",
       " 'ccsd_singles_energy': None,\n",
       " 'ccsd_doubles_energy': None,\n",
       " 'ccsd_correlation_energy': None,\n",
       " 'ccsd_total_energy': None,\n",
       " 'ccsd_dipole_moment': None,\n",
       " 'ccsd_iterations': None,\n",
       " 'ccsd_prt_pr_correlation_energy': None,\n",
       " 'ccsd_prt_pr_total_energy': None,\n",
       " 'ccsd_prt_pr_dipole_moment': None}"
      ]
     },
     "execution_count": 19,
     "metadata": {},
     "output_type": "execute_result"
    }
   ],
   "source": [
    "ret.properties.dict()"
   ]
  },
  {
   "cell_type": "code",
   "execution_count": null,
   "metadata": {},
   "outputs": [],
   "source": []
  }
 ],
 "metadata": {
  "kernelspec": {
   "display_name": "Python 3",
   "language": "python",
   "name": "python3"
  },
  "language_info": {
   "codemirror_mode": {
    "name": "ipython",
    "version": 3
   },
   "file_extension": ".py",
   "mimetype": "text/x-python",
   "name": "python",
   "nbconvert_exporter": "python",
   "pygments_lexer": "ipython3",
   "version": "3.7.3"
  }
 },
 "nbformat": 4,
 "nbformat_minor": 2
}

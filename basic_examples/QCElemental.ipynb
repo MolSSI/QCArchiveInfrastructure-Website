{
 "cells": [
  {
   "cell_type": "markdown",
   "metadata": {},
   "source": [
    "# QCElemental\n",
    "\n",
    "QCElemental is a general purpose utility library that covers many fundamental areas:\n",
    "\n",
    "- QCSchema Models\n",
    "- Molecule Parsing\n",
    "- Unit support\n",
    "- Canonical physical quantities"
   ]
  },
  {
   "cell_type": "markdown",
   "metadata": {},
   "source": [
    "## Molecule Parsing and Models"
   ]
  },
  {
   "cell_type": "code",
   "execution_count": 1,
   "metadata": {},
   "outputs": [],
   "source": [
    "import qcelemental as qcel"
   ]
  },
  {
   "cell_type": "markdown",
   "metadata": {},
   "source": [
    "The MolSSI QCSchema has been implemented into utility classes within QCElemental. Models can be created in a number of different ways, here we pull Caffeine from pubchem."
   ]
  },
  {
   "cell_type": "code",
   "execution_count": 2,
   "metadata": {},
   "outputs": [
    {
     "name": "stdout",
     "output_type": "stream",
     "text": [
      "\tSearching PubChem database for caffeine (single best match returned)\n",
      "\tFound 1 result(s)\n"
     ]
    },
    {
     "data": {
      "application/3dmoljs_load.v0": "<div id=\"3dmolviewer_1566252762512738\"  style=\"position: relative; width: 400px; height: 400px\">\n        <p id=\"3dmolwarning_1566252762512738\" style=\"background-color:#ffcccc;color:black\">You appear to be running in JupyterLab (or JavaScript failed to load for some other reason).  You need to install the 3dmol extension: <br>\n        <tt>jupyter labextension install jupyterlab_3dmol</tt></p>\n        </div>\n<script>\n\nvar loadScriptAsync = function(uri){\n  return new Promise((resolve, reject) => {\n    var tag = document.createElement('script');\n    tag.src = uri;\n    tag.async = true;\n    tag.onload = () => {\n      resolve();\n    };\n  var firstScriptTag = document.getElementsByTagName('script')[0];\n  firstScriptTag.parentNode.insertBefore(tag, firstScriptTag);\n});\n};\n\nif(typeof $3Dmolpromise === 'undefined') {\n$3Dmolpromise = null;\n  $3Dmolpromise = loadScriptAsync('https://3dmol.csb.pitt.edu/build/3Dmol.js');\n}\n\nvar viewer_1566252762512738 = null;\nvar warn = document.getElementById(\"3dmolwarning_1566252762512738\");\nif(warn) {\n    warn.parentNode.removeChild(warn);\n}\n$3Dmolpromise.then(function() {\nviewer_1566252762512738 = $3Dmol.createViewer($(\"#3dmolviewer_1566252762512738\"),{backgroundColor:\"white\"});\n\tviewer_1566252762512738.addModel(\"24\\nIUPAC 1,3,7-trimethylpurine-2,6-dione\\nO                     0.470000000548     2.568799999431     0.000600002289\\nO                    -3.127100001630    -0.443600000395    -0.000300001144\\nN                    -0.968600002583    -1.312500000178     0.000000000000\\nN                     2.218199999211     0.141200000574    -0.000300001144\\nN                    -1.347700000381     1.079700001240    -0.000099998618\\nN                     1.411900001834    -1.937199999875     0.000200002527\\nC                     0.857899998396     0.259199999091    -0.000799999524\\nC                     0.389699999423    -1.026400002556    -0.000399999762\\nC                     0.030699998914     1.421999999788    -0.000600002289\\nC                    -1.906100001198    -0.249500000899    -0.000399999762\\nC                     2.503200001457    -1.199800002474     0.000300001144\\nC                    -1.427600001744    -2.695999997759     0.000799999524\\nC                     3.192600000986     1.206100000045     0.000300001144\\nC                    -2.296900001289     2.188100002585     0.000700000906\\nH                     3.516299997382    -1.578699997746     0.000799999524\\nH                    -1.045099998034    -3.197299999510    -0.893700000888\\nH                    -2.518600000223    -2.759600002215     0.001100000668\\nH                    -1.044699998272    -3.196299997459     0.895699999697\\nH                     4.199200002105     0.780099999751     0.000200002527\\nH                     3.046800000505     1.809200002022    -0.899199998935\\nH                     3.046599997979     1.808299998590     0.900399998221\\nH                    -1.808699998351     3.165100000166    -0.000300001144\\nH                    -2.932200002610     2.102699997883     0.888099998932\\nH                    -2.934600001181     2.102100000886    -0.884900000837\\n\",\"xyz\");\n\tviewer_1566252762512738.setStyle({\"stick\": {\"radius\": 0.2}, \"sphere\": {\"scale\": 0.3}});\n\tviewer_1566252762512738.zoomTo();\nviewer_1566252762512738.render();\n});\n</script>",
      "text/html": [
       "<div id=\"3dmolviewer_1566252762512738\"  style=\"position: relative; width: 400px; height: 400px\">\n",
       "        <p id=\"3dmolwarning_1566252762512738\" style=\"background-color:#ffcccc;color:black\">You appear to be running in JupyterLab (or JavaScript failed to load for some other reason).  You need to install the 3dmol extension: <br>\n",
       "        <tt>jupyter labextension install jupyterlab_3dmol</tt></p>\n",
       "        </div>\n",
       "<script>\n",
       "\n",
       "var loadScriptAsync = function(uri){\n",
       "  return new Promise((resolve, reject) => {\n",
       "    var tag = document.createElement('script');\n",
       "    tag.src = uri;\n",
       "    tag.async = true;\n",
       "    tag.onload = () => {\n",
       "      resolve();\n",
       "    };\n",
       "  var firstScriptTag = document.getElementsByTagName('script')[0];\n",
       "  firstScriptTag.parentNode.insertBefore(tag, firstScriptTag);\n",
       "});\n",
       "};\n",
       "\n",
       "if(typeof $3Dmolpromise === 'undefined') {\n",
       "$3Dmolpromise = null;\n",
       "  $3Dmolpromise = loadScriptAsync('https://3dmol.csb.pitt.edu/build/3Dmol.js');\n",
       "}\n",
       "\n",
       "var viewer_1566252762512738 = null;\n",
       "var warn = document.getElementById(\"3dmolwarning_1566252762512738\");\n",
       "if(warn) {\n",
       "    warn.parentNode.removeChild(warn);\n",
       "}\n",
       "$3Dmolpromise.then(function() {\n",
       "viewer_1566252762512738 = $3Dmol.createViewer($(\"#3dmolviewer_1566252762512738\"),{backgroundColor:\"white\"});\n",
       "\tviewer_1566252762512738.addModel(\"24\\nIUPAC 1,3,7-trimethylpurine-2,6-dione\\nO                     0.470000000548     2.568799999431     0.000600002289\\nO                    -3.127100001630    -0.443600000395    -0.000300001144\\nN                    -0.968600002583    -1.312500000178     0.000000000000\\nN                     2.218199999211     0.141200000574    -0.000300001144\\nN                    -1.347700000381     1.079700001240    -0.000099998618\\nN                     1.411900001834    -1.937199999875     0.000200002527\\nC                     0.857899998396     0.259199999091    -0.000799999524\\nC                     0.389699999423    -1.026400002556    -0.000399999762\\nC                     0.030699998914     1.421999999788    -0.000600002289\\nC                    -1.906100001198    -0.249500000899    -0.000399999762\\nC                     2.503200001457    -1.199800002474     0.000300001144\\nC                    -1.427600001744    -2.695999997759     0.000799999524\\nC                     3.192600000986     1.206100000045     0.000300001144\\nC                    -2.296900001289     2.188100002585     0.000700000906\\nH                     3.516299997382    -1.578699997746     0.000799999524\\nH                    -1.045099998034    -3.197299999510    -0.893700000888\\nH                    -2.518600000223    -2.759600002215     0.001100000668\\nH                    -1.044699998272    -3.196299997459     0.895699999697\\nH                     4.199200002105     0.780099999751     0.000200002527\\nH                     3.046800000505     1.809200002022    -0.899199998935\\nH                     3.046599997979     1.808299998590     0.900399998221\\nH                    -1.808699998351     3.165100000166    -0.000300001144\\nH                    -2.932200002610     2.102699997883     0.888099998932\\nH                    -2.934600001181     2.102100000886    -0.884900000837\\n\",\"xyz\");\n",
       "\tviewer_1566252762512738.setStyle({\"stick\": {\"radius\": 0.2}, \"sphere\": {\"scale\": 0.3}});\n",
       "\tviewer_1566252762512738.zoomTo();\n",
       "viewer_1566252762512738.render();\n",
       "});\n",
       "</script>"
      ]
     },
     "metadata": {},
     "output_type": "display_data"
    },
    {
     "data": {
      "text/plain": [
       "<Molecule(name='IUPAC 1,3,7-trimethylpurine-2,6-dione' formula='C8H10N4O2' hash='a9e3599')>"
      ]
     },
     "execution_count": 2,
     "metadata": {},
     "output_type": "execute_result"
    }
   ],
   "source": [
    "qcel.models.Molecule.from_data(\"pubchem:caffeine\")"
   ]
  },
  {
   "cell_type": "markdown",
   "metadata": {},
   "source": [
    "More canonical forms are also available, for example we can import from a string:"
   ]
  },
  {
   "cell_type": "code",
   "execution_count": 24,
   "metadata": {},
   "outputs": [
    {
     "data": {
      "application/3dmoljs_load.v0": "<div id=\"3dmolviewer_1566253428657762\"  style=\"position: relative; width: 400px; height: 400px\">\n        <p id=\"3dmolwarning_1566253428657762\" style=\"background-color:#ffcccc;color:black\">You appear to be running in JupyterLab (or JavaScript failed to load for some other reason).  You need to install the 3dmol extension: <br>\n        <tt>jupyter labextension install jupyterlab_3dmol</tt></p>\n        </div>\n<script>\n\nvar loadScriptAsync = function(uri){\n  return new Promise((resolve, reject) => {\n    var tag = document.createElement('script');\n    tag.src = uri;\n    tag.async = true;\n    tag.onload = () => {\n      resolve();\n    };\n  var firstScriptTag = document.getElementsByTagName('script')[0];\n  firstScriptTag.parentNode.insertBefore(tag, firstScriptTag);\n});\n};\n\nif(typeof $3Dmolpromise === 'undefined') {\n$3Dmolpromise = null;\n  $3Dmolpromise = loadScriptAsync('https://3dmol.csb.pitt.edu/build/3Dmol.js');\n}\n\nvar viewer_1566253428657762 = null;\nvar warn = document.getElementById(\"3dmolwarning_1566253428657762\");\nif(warn) {\n    warn.parentNode.removeChild(warn);\n}\n$3Dmolpromise.then(function() {\nviewer_1566253428657762 = $3Dmol.createViewer($(\"#3dmolviewer_1566253428657762\"),{backgroundColor:\"white\"});\n\tviewer_1566253428657762.addModel(\"3\\nH2O\\nO                     0.000000000000     0.000000000000     0.000000000000\\nH                     0.000000000000     0.000000000000     1.000000002404\\nH                     0.000000000000     1.000000002404     0.000000000000\\n\",\"xyz\");\n\tviewer_1566253428657762.setStyle({\"stick\": {\"radius\": 0.2}, \"sphere\": {\"scale\": 0.3}});\n\tviewer_1566253428657762.zoomTo();\nviewer_1566253428657762.render();\n});\n</script>",
      "text/html": [
       "<div id=\"3dmolviewer_1566253428657762\"  style=\"position: relative; width: 400px; height: 400px\">\n",
       "        <p id=\"3dmolwarning_1566253428657762\" style=\"background-color:#ffcccc;color:black\">You appear to be running in JupyterLab (or JavaScript failed to load for some other reason).  You need to install the 3dmol extension: <br>\n",
       "        <tt>jupyter labextension install jupyterlab_3dmol</tt></p>\n",
       "        </div>\n",
       "<script>\n",
       "\n",
       "var loadScriptAsync = function(uri){\n",
       "  return new Promise((resolve, reject) => {\n",
       "    var tag = document.createElement('script');\n",
       "    tag.src = uri;\n",
       "    tag.async = true;\n",
       "    tag.onload = () => {\n",
       "      resolve();\n",
       "    };\n",
       "  var firstScriptTag = document.getElementsByTagName('script')[0];\n",
       "  firstScriptTag.parentNode.insertBefore(tag, firstScriptTag);\n",
       "});\n",
       "};\n",
       "\n",
       "if(typeof $3Dmolpromise === 'undefined') {\n",
       "$3Dmolpromise = null;\n",
       "  $3Dmolpromise = loadScriptAsync('https://3dmol.csb.pitt.edu/build/3Dmol.js');\n",
       "}\n",
       "\n",
       "var viewer_1566253428657762 = null;\n",
       "var warn = document.getElementById(\"3dmolwarning_1566253428657762\");\n",
       "if(warn) {\n",
       "    warn.parentNode.removeChild(warn);\n",
       "}\n",
       "$3Dmolpromise.then(function() {\n",
       "viewer_1566253428657762 = $3Dmol.createViewer($(\"#3dmolviewer_1566253428657762\"),{backgroundColor:\"white\"});\n",
       "\tviewer_1566253428657762.addModel(\"3\\nH2O\\nO                     0.000000000000     0.000000000000     0.000000000000\\nH                     0.000000000000     0.000000000000     1.000000002404\\nH                     0.000000000000     1.000000002404     0.000000000000\\n\",\"xyz\");\n",
       "\tviewer_1566253428657762.setStyle({\"stick\": {\"radius\": 0.2}, \"sphere\": {\"scale\": 0.3}});\n",
       "\tviewer_1566253428657762.zoomTo();\n",
       "viewer_1566253428657762.render();\n",
       "});\n",
       "</script>"
      ]
     },
     "metadata": {},
     "output_type": "display_data"
    },
    {
     "data": {
      "text/plain": [
       "<Molecule(name='H2O' formula='H2O' hash='647b11e')>"
      ]
     },
     "execution_count": 24,
     "metadata": {},
     "output_type": "execute_result"
    }
   ],
   "source": [
    "water = qcel.models.Molecule.from_data(\"\"\"\n",
    "-1 2\n",
    "O 0 0 0\n",
    "H 0 0 1\n",
    "H 0 1 0\n",
    "\"\"\")\n",
    "water"
   ]
  },
  {
   "cell_type": "markdown",
   "metadata": {},
   "source": [
    "Ontop of visualization, there are many helper functions which can provide data about the molecule or can perform a variety of actions. It should be noted that all quantities are in atomic units."
   ]
  },
  {
   "cell_type": "code",
   "execution_count": 29,
   "metadata": {},
   "outputs": [
    {
     "name": "stdout",
     "output_type": "stream",
     "text": [
      "Molecular Charge:       -1.0\n",
      "Molecular Multiplicity: 2\n",
      "O-H distance (Bohr):    1.88972613\n",
      "H-O-H angle (degrees):  90.0\n",
      "\n",
      "Water coordinates (Bohr):\n",
      "[[0.         0.         0.        ]\n",
      " [0.         0.         1.88972613]\n",
      " [0.         1.88972613 0.        ]]\n"
     ]
    }
   ],
   "source": [
    "print(f\"Molecular Charge:       {water.molecular_charge}\")\n",
    "print(f\"Molecular Multiplicity: {water.molecular_multiplicity}\")\n",
    "print(f\"O-H distance (Bohr):    {water.measure([0, 1])}\")\n",
    "print(f\"H-O-H angle (degrees):  {water.measure([1, 0, 2])}\")\n",
    "print(\"\\nWater coordinates (Bohr):\")\n",
    "print(water.geometry)"
   ]
  },
  {
   "cell_type": "markdown",
   "metadata": {},
   "source": [
    "## Unit Support\n",
    "\n",
    "Unit conversion between arbitrary units is supported out of the box. By default, 2014 CODATA is used."
   ]
  },
  {
   "cell_type": "code",
   "execution_count": 7,
   "metadata": {},
   "outputs": [
    {
     "data": {
      "text/plain": [
       "0.52917721067"
      ]
     },
     "execution_count": 7,
     "metadata": {},
     "output_type": "execute_result"
    }
   ],
   "source": [
    "qcel.constants.conversion_factor(\"bohr\", \"Angstrom\")"
   ]
  },
  {
   "cell_type": "code",
   "execution_count": 9,
   "metadata": {},
   "outputs": [
    {
     "data": {
      "text/plain": [
       "0.52917721067"
      ]
     },
     "execution_count": 9,
     "metadata": {},
     "output_type": "execute_result"
    }
   ],
   "source": [
    "qcel.constants.bohr2angstroms"
   ]
  },
  {
   "cell_type": "markdown",
   "metadata": {},
   "source": [
    "Complex quantities such as H"
   ]
  },
  {
   "cell_type": "code",
   "execution_count": 17,
   "metadata": {},
   "outputs": [
    {
     "data": {
      "text/plain": [
       "6.269253498179915e+18"
      ]
     },
     "execution_count": 17,
     "metadata": {},
     "output_type": "execute_result"
    }
   ],
   "source": [
    "qcel.constants.conversion_factor(\"hartree / bohr ** 2\", \"eV / inches ** 2\")"
   ]
  },
  {
   "cell_type": "markdown",
   "metadata": {},
   "source": [
    "In addition to straight conversion factors QCElemental supports the pint \"Quantity\" objects where are either single Python floats or NumPy arrays"
   ]
  },
  {
   "cell_type": "code",
   "execution_count": 15,
   "metadata": {},
   "outputs": [
    {
     "name": "stdout",
     "output_type": "stream",
     "text": [
      "3 bohr\n",
      "9.864464228965342e-14 mile\n"
     ]
    }
   ],
   "source": [
    "distance = qcel.constants.Quantity(\"3 Bohr\")\n",
    "print(distance)\n",
    "print(distance.to(\"mile\"))"
   ]
  },
  {
   "cell_type": "markdown",
   "metadata": {},
   "source": [
    "It should be noted that using the QCElemental's implementation of a Pint context is highly advised as many computational chemistry specific translations have been inserted. This primarly revolves around being able to convert between quantities that require understanding of mass/energy conversion."
   ]
  },
  {
   "cell_type": "code",
   "execution_count": 23,
   "metadata": {},
   "outputs": [
    {
     "name": "stdout",
     "output_type": "stream",
     "text": [
      "hartree -> kelvin:   315775.13\n",
      "hartree -> kilogram: 4.850870129000001e-35\n"
     ]
    }
   ],
   "source": [
    "print(f\"hartree -> kelvin:   {qcel.constants.conversion_factor('hartree', 'kelvin')}\")\n",
    "print(f\"hartree -> kilogram: {qcel.constants.conversion_factor('hartree', 'kilogram')}\")"
   ]
  },
  {
   "cell_type": "markdown",
   "metadata": {},
   "source": [
    "## Physical Quantities\n",
    "\n",
    "QCElemental can provide many canonical quantities from a variety of standard names:"
   ]
  },
  {
   "cell_type": "code",
   "execution_count": 31,
   "metadata": {},
   "outputs": [
    {
     "name": "stdout",
     "output_type": "stream",
     "text": [
      "12.0\n",
      "12.0\n",
      "12.0\n",
      "12.0\n"
     ]
    }
   ],
   "source": [
    "print(qcel.periodictable.to_mass(6))\n",
    "print(qcel.periodictable.to_mass(\"C\"))\n",
    "print(qcel.periodictable.to_mass(\"C12\"))\n",
    "print(qcel.periodictable.to_mass(\"Carbon\"))"
   ]
  },
  {
   "cell_type": "code",
   "execution_count": null,
   "metadata": {},
   "outputs": [],
   "source": []
  }
 ],
 "metadata": {
  "kernelspec": {
   "display_name": "Python 3",
   "language": "python",
   "name": "python3"
  },
  "language_info": {
   "codemirror_mode": {
    "name": "ipython",
    "version": 3
   },
   "file_extension": ".py",
   "mimetype": "text/x-python",
   "name": "python",
   "nbconvert_exporter": "python",
   "pygments_lexer": "ipython3",
   "version": "3.7.3"
  }
 },
 "nbformat": 4,
 "nbformat_minor": 2
}
